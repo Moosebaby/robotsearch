{
 "cells": [
  {
   "cell_type": "code",
   "execution_count": 1,
   "metadata": {
    "collapsed": false
   },
   "outputs": [],
   "source": [
    "from robotsearch.parsers import ris"
   ]
  },
  {
   "cell_type": "code",
   "execution_count": 2,
   "metadata": {
    "collapsed": false
   },
   "outputs": [],
   "source": [
    "\n",
    "with open('robotsearch/examples/ovid.txt', 'r') as f:\n",
    "    inp = ris.load(f)\n",
    "    \n",
    "# or try 'robotsearch/examples/pubmed.txt'\n",
    "\n"
   ]
  },
  {
   "cell_type": "code",
   "execution_count": 3,
   "metadata": {
    "collapsed": false
   },
   "outputs": [
    {
     "name": "stdout",
     "output_type": "stream",
     "text": [
      "The inital search result has 4345 articles\n"
     ]
    }
   ],
   "source": [
    "print(\"The inital search result has {} articles\".format(len(inp)))"
   ]
  },
  {
   "cell_type": "code",
   "execution_count": 4,
   "metadata": {
    "collapsed": false
   },
   "outputs": [
    {
     "name": "stderr",
     "output_type": "stream",
     "text": [
      "Using Theano backend.\n"
     ]
    }
   ],
   "source": [
    "from robotsearch.robots import rct_robot\n",
    "r = rct_robot.RCTRobot()"
   ]
  },
  {
   "cell_type": "code",
   "execution_count": 9,
   "metadata": {
    "collapsed": false,
    "scrolled": true
   },
   "outputs": [],
   "source": [
    "rcts_sens = r.filter_articles(inp, filter_class='svm_cnn_ptyp', filter_type='sensitive')"
   ]
  },
  {
   "cell_type": "code",
   "execution_count": 10,
   "metadata": {
    "collapsed": false
   },
   "outputs": [
    {
     "name": "stdout",
     "output_type": "stream",
     "text": [
      "The best performing sensitive search has 1594 articles\n"
     ]
    }
   ],
   "source": [
    "print(\"The best performing sensitive search has {} articles\".format(len(rcts_sens)))"
   ]
  },
  {
   "cell_type": "code",
   "execution_count": 11,
   "metadata": {
    "collapsed": false
   },
   "outputs": [],
   "source": [
    "rcts_prec = r.filter_articles(inp, filter_class='svm_cnn_ptyp', filter_type='precise')"
   ]
  },
  {
   "cell_type": "code",
   "execution_count": 12,
   "metadata": {
    "collapsed": false
   },
   "outputs": [
    {
     "name": "stdout",
     "output_type": "stream",
     "text": [
      "The best performing precise search has 516 articles\n"
     ]
    }
   ],
   "source": [
    "print(\"The best performing precise search has {} articles\".format(len(rcts_prec)))"
   ]
  },
  {
   "cell_type": "code",
   "execution_count": 15,
   "metadata": {
    "collapsed": false
   },
   "outputs": [
    {
     "name": "stdout",
     "output_type": "stream",
     "text": [
      "Here is one...\n",
      "{'format': 'pubmed', 'title': 'Depression, patient characteristics, and attachment style: correlates and mediators of medication treatment adherence in a racially diverse primary care sample.', 'rct_ptyp': True, 'abstract': 'BACKGROUND: The depth and breadth of problems related to depressive symptomatology and optimal treatment outcomes, including medication treatment adherence, have long been documented in the literature. Missing are clear explanations as to what factors and patient characteristics may account for lack of medication treatment adherence. OBJECTIVES: The two objectives of the current study were to examine the predictive strength of depression, patient characteristics, and patient attachment style regarding medication treatment adherence and to consider the extent to which attachment styles mediate the relation between depression and medication treatment adherence. METHOD: Participants in the present study were 237 racially diverse American primary care patients with a diagnosis of hypertension who were participants in a clinical trial. Depression, patient characteristics, attachment style, and medication treatment adherence were assessed. RESULTS: Partly consistent with our four hypotheses, the following results were found: (a) Black American, younger, never married, and poorer patients had lower medication treatment adherence (b) depression was significantly associated with lower self-reported medication adherence; (c) insecure-dismissing attachment style was related to lower medication adherence; and (d) insecure-dismissing attachment style mediates the relation between depression and medication treatment adherence by exacerbating the negative association. CONCLUSION: Physicians and other primary care providers should consider how depressive symptomatology, patient characteristics, and attachment style may inform the treatment plans they put forward and the extent to which patients may adhere to those treatment plans.'}\n"
     ]
    }
   ],
   "source": [
    "print(\"Here is one...\")\n",
    "print(ris.simplify(rcts_prec[0]))"
   ]
  },
  {
   "cell_type": "code",
   "execution_count": null,
   "metadata": {
    "collapsed": true
   },
   "outputs": [],
   "source": []
  }
 ],
 "metadata": {
  "anaconda-cloud": {},
  "kernelspec": {
   "display_name": "Python [Root]",
   "language": "python",
   "name": "Python [Root]"
  },
  "language_info": {
   "codemirror_mode": {
    "name": "ipython",
    "version": 3
   },
   "file_extension": ".py",
   "mimetype": "text/x-python",
   "name": "python",
   "nbconvert_exporter": "python",
   "pygments_lexer": "ipython3",
   "version": "3.5.2"
  }
 },
 "nbformat": 4,
 "nbformat_minor": 0
}
